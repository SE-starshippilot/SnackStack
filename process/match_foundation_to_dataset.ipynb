{
 "cells": [
  {
   "cell_type": "markdown",
   "id": "ca2aa685",
   "metadata": {},
   "source": [
    "# This notebook trys to establish a matching from a foundation ingredient to a recipe ingredient\n",
    "exact match is preferred, but if not possible, a fuzzy match is also acceptable"
   ]
  },
  {
   "cell_type": "code",
   "execution_count": 22,
   "id": "6b048c64",
   "metadata": {},
   "outputs": [],
   "source": [
    "from rapidfuzz import process, fuzz"
   ]
  },
  {
   "cell_type": "code",
   "execution_count": 23,
   "id": "1270b9f7",
   "metadata": {},
   "outputs": [],
   "source": [
    "foundation_ingredient_filepath = \"resources/clean/foundation_ingredient.csv\"\n",
    "recipe_ingredient_filepath = \"resources/clean/recipe_ingredients.csv\"\n",
    "\n",
    "with open(foundation_ingredient_filepath, \"r\") as foundation_ingredient_file:\n",
    "    foundation_ingredient_lines = [line.strip() for line in foundation_ingredient_file.readlines()]\n",
    "with open(recipe_ingredient_filepath, \"r\") as recipe_ingredient_file:\n",
    "    recipe_ingredient_lines = [line.strip() for line in recipe_ingredient_file.readlines()]"
   ]
  },
  {
   "cell_type": "code",
   "execution_count": 24,
   "id": "e0761ac4",
   "metadata": {},
   "outputs": [
    {
     "name": "stdout",
     "output_type": "stream",
     "text": [
      "Foundation Ingredient Lines:  122\n",
      "Recipe Ingredient Lines:  234063\n"
     ]
    }
   ],
   "source": [
    "print(\"Foundation Ingredient Lines: \", len(foundation_ingredient_lines))\n",
    "print(\"Recipe Ingredient Lines: \", len(recipe_ingredient_lines))\n",
    "foundation_ingredients = set(foundation_ingredient_lines)\n",
    "recipe_ingredients = set(recipe_ingredient_lines)"
   ]
  },
  {
   "cell_type": "code",
   "execution_count": 25,
   "id": "73a876c2",
   "metadata": {},
   "outputs": [
    {
     "name": "stderr",
     "output_type": "stream",
     "text": [
      "100%|██████████| 122/122 [00:00<00:00, 2412.21it/s]\n"
     ]
    }
   ],
   "source": [
    "from rapidfuzz.process import cdist, extractOne, extract\n",
    "import tqdm\n",
    "def find_matches(small_nouns, large_nouns, threshold=80):\n",
    "    results = {}\n",
    "    for word in tqdm.tqdm(small_nouns):\n",
    "        word_lower = word.lower()\n",
    "        if word_lower in large_nouns:\n",
    "            results[word] = (\"EXACT\", word_lower)\n",
    "        else:\n",
    "            # Find closest match above threshold, if any\n",
    "            match = extractOne(word_lower, large_nouns, scorer=fuzz.ratio, score_cutoff=threshold)\n",
    "            if match:\n",
    "                results[word] = (\"FUZZY\", match[0], match[1]) # (type, match, score)\n",
    "            else:\n",
    "                results[word] = (\"NOT FOUND\", None)\n",
    "    return results\n",
    "\n",
    "result = find_matches(foundation_ingredients, recipe_ingredients, threshold=80)"
   ]
  },
  {
   "cell_type": "markdown",
   "id": "1026bb0c",
   "metadata": {},
   "source": [
    " we do a tiny modification, matching \"oat milk\" to \"vanilla oat milk\" instead of \"goat milk\""
   ]
  },
  {
   "cell_type": "code",
   "execution_count": 31,
   "id": "e579ba71",
   "metadata": {},
   "outputs": [],
   "source": [
    "result['oat milk'] = ('EXACT', 'vanilla oat milk')"
   ]
  },
  {
   "cell_type": "code",
   "execution_count": 32,
   "id": "e5c033d5",
   "metadata": {},
   "outputs": [
    {
     "name": "stdout",
     "output_type": "stream",
     "text": [
      "EXACT: rutabaga -> rutabaga\n",
      "EXACT: blackberry -> blackberry\n",
      "EXACT: mushroom -> mushroom\n",
      "EXACT: celery -> celery\n",
      "EXACT: lentil -> lentil\n",
      "EXACT: sesame butter -> sesame butter\n",
      "EXACT: milk -> milk\n",
      "EXACT: einkorn -> einkorn\n",
      "EXACT: pea -> pea\n",
      "EXACT: sorghum grain -> sorghum grain\n",
      "EXACT: cream -> cream\n",
      "EXACT: arugula -> arugula\n",
      "EXACT: eggplant -> eggplant\n",
      "EXACT: nut -> nut\n",
      "EXACT: turkey -> turkey\n",
      "EXACT: garlic -> garlic\n",
      "EXACT: tomato -> tomato\n",
      "EXACT: green onion -> green onion\n",
      "EXACT: cheese -> cheese\n",
      "EXACT: ketchup -> ketchup\n",
      "EXACT: hummus -> hummus\n",
      "EXACT: apple -> apple\n",
      "EXACT: banana -> banana\n",
      "EXACT: broccoli -> broccoli\n",
      "EXACT: pawpaw -> pawpaw\n",
      "EXACT: ham -> ham\n",
      "EXACT: orange -> orange\n",
      "EXACT: peanut -> peanut\n",
      "EXACT: sweet potatoes -> sweet potatoes\n",
      "EXACT: bread -> bread\n",
      "EXACT: olive -> olive\n",
      "EXACT: chia seeds -> chia seeds\n",
      "EXACT: almond milk -> almond milk\n",
      "EXACT: oat -> oat\n",
      "EXACT: cottage cheese -> cottage cheese\n",
      "EXACT: cookie -> cookie\n",
      "EXACT: apricot -> apricot\n",
      "EXACT: sugar -> sugar\n",
      "EXACT: millet -> millet\n",
      "EXACT: salt -> salt\n",
      "EXACT: butter -> butter\n",
      "EXACT: lettuce -> lettuce\n",
      "EXACT: yogurt -> yogurt\n",
      "EXACT: nectarine -> nectarine\n",
      "EXACT: onion rings -> onion rings\n",
      "EXACT: pepper -> pepper\n",
      "EXACT: cauliflower -> cauliflower\n",
      "EXACT: spinach -> spinach\n",
      "EXACT: beef -> beef\n",
      "EXACT: flaxseed -> flaxseed\n",
      "EXACT: frankfurter -> frankfurter\n",
      "EXACT: grape -> grape\n",
      "EXACT: egg -> egg\n",
      "EXACT: applesauce -> applesauce\n",
      "EXACT: flour -> flour\n",
      "EXACT: leek -> leek\n",
      "EXACT: corn flour -> corn flour\n",
      "EXACT: cabbage -> cabbage\n",
      "EXACT: grapefruit juice -> grapefruit juice\n",
      "EXACT: brussels sprouts -> brussels sprouts\n",
      "EXACT: bulgur -> bulgur\n",
      "EXACT: onion -> onion\n",
      "EXACT: sausage -> sausage\n",
      "EXACT: fonio -> fonio\n",
      "EXACT: mandarin -> mandarin\n",
      "EXACT: cranberry juice -> cranberry juice\n",
      "EXACT: bison -> bison\n",
      "EXACT: oil -> oil\n",
      "EXACT: carrot -> carrot\n",
      "EXACT: tomato juice -> tomato juice\n",
      "EXACT: wild rice -> wild rice\n",
      "EXACT: juice -> juice\n",
      "EXACT: lamb -> lamb\n",
      "EXACT: soy milk -> soy milk\n",
      "EXACT: kiwifruit -> kiwifruit\n",
      "EXACT: blueberry -> blueberry\n",
      "EXACT: apple juice -> apple juice\n",
      "EXACT: restaurant -> restaurant\n",
      "EXACT: beet -> beet\n",
      "EXACT: tomatillo -> tomatillo\n",
      "FUZZY: blackeye pea -> blackeye peas (96.0)\n",
      "EXACT: peanut butter -> peanut butter\n",
      "EXACT: potato -> potato\n",
      "EXACT: shallot -> shallot\n",
      "EXACT: cream cheese -> cream cheese\n",
      "EXACT: raspberry -> raspberry\n",
      "EXACT: strawberry -> strawberry\n",
      "EXACT: squash -> squash\n",
      "EXACT: chickpea -> chickpea\n",
      "EXACT: buttermilk -> buttermilk\n",
      "EXACT: bean -> bean\n",
      "EXACT: melon -> melon\n",
      "EXACT: sauce -> sauce\n",
      "EXACT: avocado -> avocado\n",
      "EXACT: rice -> rice\n",
      "EXACT: pineapple -> pineapple\n",
      "EXACT: asparagus -> asparagus\n",
      "EXACT: oat milk -> vanilla oat milk\n",
      "EXACT: plantain -> plantain\n",
      "EXACT: corn -> corn\n",
      "EXACT: sorghum -> sorghum\n",
      "EXACT: almond butter -> almond butter\n",
      "EXACT: peach -> peach\n",
      "EXACT: fish -> fish\n",
      "EXACT: pork -> pork\n",
      "EXACT: collard -> collard\n",
      "FUZZY: fig -> figs (85.71428571428572)\n",
      "EXACT: pear -> pear\n",
      "EXACT: chicken -> chicken\n",
      "FUZZY: seed -> seeds (88.88888888888889)\n",
      "EXACT: mustard -> mustard\n",
      "EXACT: cherry -> cherry\n",
      "EXACT: cucumber -> cucumber\n",
      "EXACT: orange juice -> orange juice\n",
      "EXACT: farro -> farro\n",
      "EXACT: pickle -> pickle\n",
      "EXACT: plum -> plum\n",
      "EXACT: kale -> kale\n",
      "EXACT: buckwheat -> buckwheat\n",
      "EXACT: grape juice -> grape juice\n",
      "EXACT: sorghum flour -> sorghum flour\n",
      "EXACT: mango -> mango\n"
     ]
    }
   ],
   "source": [
    "for key, value in result.items():\n",
    "    if value[0] == \"NOT FOUND\":\n",
    "        print(f\"NOT FOUND: {key}\")\n",
    "    elif value[0] == \"FUZZY\":\n",
    "        print(f\"FUZZY: {key} -> {value[1]} ({value[2]})\")\n",
    "    else:\n",
    "        print(f\"EXACT: {key} -> {value[1]}\")"
   ]
  },
  {
   "cell_type": "markdown",
   "id": "81960ed6",
   "metadata": {},
   "source": [
    "save the matching to a json file. we are now certain that all matching is correct"
   ]
  },
  {
   "cell_type": "code",
   "execution_count": 34,
   "id": "07f21a45",
   "metadata": {},
   "outputs": [
    {
     "name": "stdout",
     "output_type": "stream",
     "text": [
      "{'rutabaga': 'rutabaga', 'blackberry': 'blackberry', 'mushroom': 'mushroom', 'celery': 'celery', 'lentil': 'lentil', 'sesame butter': 'sesame butter', 'milk': 'milk', 'einkorn': 'einkorn', 'pea': 'pea', 'sorghum grain': 'sorghum grain', 'cream': 'cream', 'arugula': 'arugula', 'eggplant': 'eggplant', 'nut': 'nut', 'turkey': 'turkey', 'garlic': 'garlic', 'tomato': 'tomato', 'green onion': 'green onion', 'cheese': 'cheese', 'ketchup': 'ketchup', 'hummus': 'hummus', 'apple': 'apple', 'banana': 'banana', 'broccoli': 'broccoli', 'pawpaw': 'pawpaw', 'ham': 'ham', 'orange': 'orange', 'peanut': 'peanut', 'sweet potatoes': 'sweet potatoes', 'bread': 'bread', 'olive': 'olive', 'chia seeds': 'chia seeds', 'almond milk': 'almond milk', 'oat': 'oat', 'cottage cheese': 'cottage cheese', 'cookie': 'cookie', 'apricot': 'apricot', 'sugar': 'sugar', 'millet': 'millet', 'salt': 'salt', 'butter': 'butter', 'lettuce': 'lettuce', 'yogurt': 'yogurt', 'nectarine': 'nectarine', 'onion rings': 'onion rings', 'pepper': 'pepper', 'cauliflower': 'cauliflower', 'spinach': 'spinach', 'beef': 'beef', 'flaxseed': 'flaxseed', 'frankfurter': 'frankfurter', 'grape': 'grape', 'egg': 'egg', 'applesauce': 'applesauce', 'flour': 'flour', 'leek': 'leek', 'corn flour': 'corn flour', 'cabbage': 'cabbage', 'grapefruit juice': 'grapefruit juice', 'brussels sprouts': 'brussels sprouts', 'bulgur': 'bulgur', 'onion': 'onion', 'sausage': 'sausage', 'fonio': 'fonio', 'mandarin': 'mandarin', 'cranberry juice': 'cranberry juice', 'bison': 'bison', 'oil': 'oil', 'carrot': 'carrot', 'tomato juice': 'tomato juice', 'wild rice': 'wild rice', 'juice': 'juice', 'lamb': 'lamb', 'soy milk': 'soy milk', 'kiwifruit': 'kiwifruit', 'blueberry': 'blueberry', 'apple juice': 'apple juice', 'restaurant': 'restaurant', 'beet': 'beet', 'tomatillo': 'tomatillo', 'blackeye pea': 'blackeye peas', 'peanut butter': 'peanut butter', 'potato': 'potato', 'shallot': 'shallot', 'cream cheese': 'cream cheese', 'raspberry': 'raspberry', 'strawberry': 'strawberry', 'squash': 'squash', 'chickpea': 'chickpea', 'buttermilk': 'buttermilk', 'bean': 'bean', 'melon': 'melon', 'sauce': 'sauce', 'avocado': 'avocado', 'rice': 'rice', 'pineapple': 'pineapple', 'asparagus': 'asparagus', 'oat milk': 'vanilla oat milk', 'plantain': 'plantain', 'corn': 'corn', 'sorghum': 'sorghum', 'almond butter': 'almond butter', 'peach': 'peach', 'fish': 'fish', 'pork': 'pork', 'collard': 'collard', 'fig': 'figs', 'pear': 'pear', 'chicken': 'chicken', 'seed': 'seeds', 'mustard': 'mustard', 'cherry': 'cherry', 'cucumber': 'cucumber', 'orange juice': 'orange juice', 'farro': 'farro', 'pickle': 'pickle', 'plum': 'plum', 'kale': 'kale', 'buckwheat': 'buckwheat', 'grape juice': 'grape juice', 'sorghum flour': 'sorghum flour', 'mango': 'mango'}\n"
     ]
    }
   ],
   "source": [
    "match_dict = dict()\n",
    "for key, value in result.items():\n",
    "    if value[0] == \"FUZZY\":\n",
    "        match_dict[key] = value[1]\n",
    "    elif value[0] == \"EXACT\":\n",
    "        match_dict[key] = value[1]\n",
    "print(match_dict)"
   ]
  },
  {
   "cell_type": "code",
   "execution_count": 35,
   "id": "95f4c708",
   "metadata": {},
   "outputs": [],
   "source": [
    "import json\n",
    "matching_result_filepath = \"resources/clean/matching_result.json\"\n",
    "\n",
    "with open(matching_result_filepath, \"w\") as matching_result_file:\n",
    "    json.dump(match_dict, matching_result_file, indent=4)"
   ]
  },
  {
   "cell_type": "markdown",
   "id": "f9a4fbef",
   "metadata": {},
   "source": [
    "also save a separate csv file containing all the matched ingredients that are present in the recipe dataset"
   ]
  },
  {
   "cell_type": "code",
   "execution_count": 36,
   "id": "492d80b3",
   "metadata": {},
   "outputs": [],
   "source": [
    "import csv\n",
    "matched_ingredients = sorted(list(match_dict.keys()))\n",
    "matched_ingredients_filepath = \"resources/clean/matched_ingredients.csv\"\n",
    "with open(matched_ingredients_filepath, \"w\", newline='') as matched_ingredients_file:\n",
    "    writer = csv.writer(matched_ingredients_file)\n",
    "    for ingredient in matched_ingredients:\n",
    "        writer.writerow([ingredient])\n"
   ]
  },
  {
   "cell_type": "code",
   "execution_count": null,
   "id": "44c3ef71",
   "metadata": {},
   "outputs": [],
   "source": []
  }
 ],
 "metadata": {
  "kernelspec": {
   "display_name": "snack_stack",
   "language": "python",
   "name": "python3"
  },
  "language_info": {
   "codemirror_mode": {
    "name": "ipython",
    "version": 3
   },
   "file_extension": ".py",
   "mimetype": "text/x-python",
   "name": "python",
   "nbconvert_exporter": "python",
   "pygments_lexer": "ipython3",
   "version": "3.10.17"
  }
 },
 "nbformat": 4,
 "nbformat_minor": 5
}
