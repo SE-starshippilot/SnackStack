{
 "cells": [
  {
   "cell_type": "markdown",
   "id": "bd463355",
   "metadata": {},
   "source": [
    "# Create a subset of RecipeNLG dataset using ingredients in the USDA Foundation Foods"
   ]
  },
  {
   "cell_type": "code",
   "execution_count": 2,
   "id": "214f473c",
   "metadata": {},
   "outputs": [],
   "source": [
    "import csv"
   ]
  },
  {
   "cell_type": "code",
   "execution_count": 3,
   "id": "f0252812",
   "metadata": {},
   "outputs": [],
   "source": [
    "matched_ingredients_filepath = \"resources/clean/matched_ingredients.csv\"\n",
    "recipe_dataset_filepath = \"resources/full_dataset.csv\"\n"
   ]
  },
  {
   "cell_type": "code",
   "execution_count": 4,
   "id": "0014026a",
   "metadata": {},
   "outputs": [
    {
     "name": "stdout",
     "output_type": "stream",
     "text": [
      "{'rice', 'apple', 'sauce', 'frankfurter', 'chia seeds', 'almond butter', 'squash', 'cream cheese', 'bean', 'beet', 'cranberry juice', 'lentil', 'chickpea', 'eggplant', 'yogurt', 'sweet potatoes', 'millet', 'asparagus', 'pineapple', 'oat', 'rutabaga', 'cookie', 'banana', 'corn flour', 'restaurant', 'einkorn', 'cabbage', 'farro', 'grape', 'lamb', 'plantain', 'sausage', 'flaxseed', 'peanut', 'milk', 'oil', 'strawberry', 'tomato', 'buckwheat', 'sorghum grain', 'applesauce', 'grape juice', 'pickle', 'pepper', 'ketchup', 'carrot', 'ham', 'bread', 'flour', 'mustard', 'nectarine', 'raspberry', 'juice', 'sorghum', 'collard', 'tomato juice', 'potato', 'fig', 'blackberry', 'plum', 'sugar', 'peach', 'tomatillo', 'cherry', 'sorghum flour', 'orange juice', 'onion', 'arugula', 'leek', 'nut', 'orange', 'cream', 'pea', 'olive', 'shallot', 'fish', 'hummus', 'bulgur', 'garlic', 'almond milk', 'avocado', 'melon', 'spinach', 'celery', 'cheese', 'oat milk', 'onion rings', 'corn', 'mushroom', 'grapefruit juice', 'pork', 'mandarin', 'kale', 'sesame butter', 'blueberry', 'chicken', 'green onion', 'apple juice', 'cauliflower', 'pear', 'lettuce', 'pawpaw', 'wild rice', 'cottage cheese', 'mango', 'broccoli', 'bison', 'butter', 'soy milk', 'apricot', 'egg', 'blackeye pea', 'beef', 'fonio', 'salt', 'peanut butter', 'turkey', 'brussels sprouts', 'kiwifruit', 'buttermilk', 'cucumber', 'seed'}\n"
     ]
    }
   ],
   "source": [
    "\n",
    "with open(matched_ingredients_filepath, \"r\") as matched_ingredients_file:\n",
    "    matched_ingredients = set()\n",
    "    reader = csv.reader(matched_ingredients_file)\n",
    "    for row in reader:\n",
    "        matched_ingredients.add(row[0])\n",
    "print(matched_ingredients)"
   ]
  },
  {
   "cell_type": "code",
   "execution_count": 5,
   "id": "5cb8d888",
   "metadata": {},
   "outputs": [
    {
     "name": "stdout",
     "output_type": "stream",
     "text": [
      "Filtered 903 recipes from the dataset\n"
     ]
    }
   ],
   "source": [
    "import ast\n",
    "\n",
    "from sympy import use\n",
    "\n",
    "max_recipe_per_ingredient = 10\n",
    "ingredient_recipe_count = {ingredient: 0 for ingredient in matched_ingredients}\n",
    "filtered_recipes = []\n",
    "with open(recipe_dataset_filepath, \"r\") as recipe_dataset_file:\n",
    "    reader = csv.DictReader(recipe_dataset_file)\n",
    "    for row in reader: # loop over each recipe\n",
    "        recipe_ingredients = set(ast.literal_eval(row[\"NER\"]))\n",
    "        intersect_ingredients = recipe_ingredients.intersection(matched_ingredients)\n",
    "        if recipe_ingredients.intersection(matched_ingredients): # if this recipe contaisn any matched ingredients\n",
    "            ingredient_reached_maximum = 0\n",
    "            for ingredient in intersect_ingredients:\n",
    "                if ingredient_recipe_count[ingredient] < max_recipe_per_ingredient:\n",
    "                    ingredient_recipe_count[ingredient] += 1\n",
    "                if ingredient_recipe_count[ingredient] == max_recipe_per_ingredient:\n",
    "                    ingredient_reached_maximum += 1\n",
    "            if ingredient_reached_maximum != len(intersect_ingredients): filtered_recipes.append(row)\n",
    "\n",
    "print(f\"Filtered {len(filtered_recipes)} recipes from the dataset\")\n",
    "                    "
   ]
  },
  {
   "cell_type": "code",
   "execution_count": 6,
   "id": "29f5b124",
   "metadata": {},
   "outputs": [
    {
     "name": "stdout",
     "output_type": "stream",
     "text": [
      "Filtered recipes saved to resources/clean/filtered_recipes.csv\n"
     ]
    }
   ],
   "source": [
    "# save the filtered recipes to a new CSV file\n",
    "filtered_recipes_filepath = \"resources/clean/filtered_recipes.csv\"\n",
    "with open(filtered_recipes_filepath, \"w\", newline=\"\") as filtered_recipes_file:\n",
    "    fieldnames = reader.fieldnames\n",
    "    writer = csv.DictWriter(filtered_recipes_file, fieldnames=fieldnames)\n",
    "    writer.writeheader()\n",
    "    for recipe in filtered_recipes:\n",
    "        writer.writerow(recipe)\n",
    "print(f\"Filtered recipes saved to {filtered_recipes_filepath}\")"
   ]
  },
  {
   "cell_type": "code",
   "execution_count": null,
   "id": "f2bc21db",
   "metadata": {},
   "outputs": [],
   "source": []
  }
 ],
 "metadata": {
  "kernelspec": {
   "display_name": "snack_stack",
   "language": "python",
   "name": "python3"
  },
  "language_info": {
   "codemirror_mode": {
    "name": "ipython",
    "version": 3
   },
   "file_extension": ".py",
   "mimetype": "text/x-python",
   "name": "python",
   "nbconvert_exporter": "python",
   "pygments_lexer": "ipython3",
   "version": "3.10.17"
  }
 },
 "nbformat": 4,
 "nbformat_minor": 5
}
